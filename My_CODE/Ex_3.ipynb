{
 "cells": [
  {
   "cell_type": "code",
   "execution_count": 15,
   "metadata": {},
   "outputs": [
    {
     "name": "stdout",
     "output_type": "stream",
     "text": [
      "[0.06666666666666667, 0.3333333333333333, 0.6]\n",
      "[0.037037037037037035, 0.18518518518518517, 0.3333333333333333, 0.4444444444444444]\n",
      "[0.16666666666666666, 0.8333333333333334]\n"
     ]
    }
   ],
   "source": [
    "#Quatient of array\n",
    "matrix = [[1,2,3],[4,5,6],[7,8,9]]\n",
    "matrix2 = [[1, 2, 3, 4], [4, 5, 6, 7], [7, 8, 9, 12], [7, 8, 9, 12]]\n",
    "matrix3 = [[1, 2], [4, 5]]\n",
    "\n",
    "def rowWise(mat):\n",
    "    rowquot = []\n",
    "    for m,row in enumerate(mat):\n",
    "        matsum = 0\n",
    "        for n,elem in enumerate(row):\n",
    "            matsum += mat[n][n]\n",
    "        rowquot.append(mat[m][m]/matsum)\n",
    "    return rowquot\n",
    "print(rowWise(matrix))\n",
    "print(rowWise(matrix2))\n",
    "print(rowWise(matrix3))"
   ]
  },
  {
   "cell_type": "code",
   "execution_count": null,
   "metadata": {},
   "outputs": [],
   "source": []
  }
 ],
 "metadata": {
  "kernelspec": {
   "display_name": "Python 3 (ipykernel)",
   "language": "python",
   "name": "python3"
  },
  "language_info": {
   "codemirror_mode": {
    "name": "ipython",
    "version": 3
   },
   "file_extension": ".py",
   "mimetype": "text/x-python",
   "name": "python",
   "nbconvert_exporter": "python",
   "pygments_lexer": "ipython3",
   "version": "3.11.5"
  }
 },
 "nbformat": 4,
 "nbformat_minor": 5
}
