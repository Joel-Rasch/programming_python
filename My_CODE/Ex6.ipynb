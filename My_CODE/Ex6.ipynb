{
 "cells": [
  {
   "cell_type": "code",
   "execution_count": 1,
   "metadata": {},
   "outputs": [],
   "source": [
    "class Vehicle:\n",
    "    def __init__(self, owner, brand_name, model_name, weight, mileage, max_speed):\n",
    "        self.owner = owner\n",
    "        self.brand_name = brand_name\n",
    "        self.model_name = model_name\n",
    "        self.weight = weight\n",
    "        self.mileage = mileage\n",
    "        self.max_speed = max_speed\n",
    "    def drive(self,distance):\n",
    "        self.mileage += distance\n",
    "        print(f'New kilometers {self.mileage}')\n",
    "\n",
    "    def setOwner(self, newOwner):\n",
    "        self.owner = newOwner\n",
    "        print(f'New Owner {self.owner}')\n",
    "\n",
    "\n",
    "class Bus(Vehicle):\n",
    "    def __init__(self,\n",
    "                 line_number,\n",
    "                 current_driver,\n",
    "                 seat_capacity):\n",
    "        super().__init__(line_number, current_driver, seat_capacity)\n",
    "    def changeLineNumber(self,line_number):\n",
    "        self.line_numer = line_number\n",
    "        print(f'New line number {self.line_number}')\n",
    "\n",
    "    def changecurrent_driver(self, current_driver):\n",
    "        self.current_driver = current_driver\n",
    "        print(f'New line number {self.current_driver}')\n",
    "\n",
    "    def changeseat_capacity(self, seat_capacity):\n",
    "        self.seat_capacity = seat_capacity\n",
    "        print(f'New line number {self.seat_capacity}')"
   ]
  },
  {
   "cell_type": "code",
   "execution_count": 31,
   "metadata": {},
   "outputs": [
    {
     "name": "stdout",
     "output_type": "stream",
     "text": [
      "{'whale': 532, 'captain': 220, 'harpoon': 39}\n"
     ]
    }
   ],
   "source": []
  },
  {
   "cell_type": "code",
   "execution_count": 50,
   "metadata": {},
   "outputs": [
    {
     "name": "stdout",
     "output_type": "stream",
     "text": [
      " Loomings.\n",
      "\n",
      "\n"
     ]
    }
   ],
   "source": []
  }
 ],
 "metadata": {
  "kernelspec": {
   "display_name": "Python 3 (ipykernel)",
   "language": "python",
   "name": "python3"
  },
  "language_info": {
   "codemirror_mode": {
    "name": "ipython",
    "version": 3
   },
   "file_extension": ".py",
   "mimetype": "text/x-python",
   "name": "python",
   "nbconvert_exporter": "python",
   "pygments_lexer": "ipython3",
   "version": "3.11.5"
  }
 },
 "nbformat": 4,
 "nbformat_minor": 5
}
