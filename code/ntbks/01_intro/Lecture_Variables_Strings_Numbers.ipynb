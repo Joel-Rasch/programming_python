{
 "cells": [
  {
   "cell_type": "markdown",
   "metadata": {},
   "source": [
    "## Variables in Python"
   ]
  },
  {
   "cell_type": "code",
   "execution_count": 1,
   "metadata": {},
   "outputs": [],
   "source": [
    "#This is a code comment and for now will be the only type of comment we will be using"
   ]
  },
  {
   "cell_type": "markdown",
   "metadata": {},
   "source": [
    "In the following cell we will see:\n",
    "\n",
    "- a variable _myvar_ defined\n",
    "- _myvar_ is being assigned a value to it\n",
    "- _myvar_ being used to create an output"
   ]
  },
  {
   "cell_type": "code",
   "execution_count": 2,
   "metadata": {},
   "outputs": [
    {
     "name": "stdout",
     "output_type": "stream",
     "text": [
      "25\n"
     ]
    }
   ],
   "source": [
    "myvar = 25\n",
    "print(myvar)"
   ]
  },
  {
   "cell_type": "markdown",
   "metadata": {},
   "source": [
    "The same can be done with strings:"
   ]
  },
  {
   "cell_type": "code",
   "execution_count": 3,
   "metadata": {},
   "outputs": [
    {
     "name": "stdout",
     "output_type": "stream",
     "text": [
      "This is another output for Hello World!\n"
     ]
    }
   ],
   "source": [
    "myString = 'This is another output for Hello World!'\n",
    "print(myString)"
   ]
  },
  {
   "cell_type": "code",
   "execution_count": 4,
   "metadata": {},
   "outputs": [
    {
     "name": "stdout",
     "output_type": "stream",
     "text": [
      "52\n",
      "52.0\n"
     ]
    }
   ],
   "source": [
    "#change the value of a variable\n",
    "myvar = 52\n",
    "print (myvar)\n",
    "\n",
    "#you can even change the datatype\n",
    "myvar = 52.0\n",
    "print(myvar)"
   ]
  },
  {
   "cell_type": "code",
   "execution_count": 5,
   "metadata": {},
   "outputs": [
    {
     "name": "stdout",
     "output_type": "stream",
     "text": [
      "<class 'float'>\n"
     ]
    }
   ],
   "source": [
    "#check the type of a variable like so:\n",
    "print(type(myvar))"
   ]
  },
  {
   "cell_type": "markdown",
   "metadata": {},
   "source": [
    "### Naming conventions\n",
    "\n",
    "You cannot use any kind of symbol when naming a variable. There are some rules:\n",
    "- you can use the underscore _____ , or alphanumeric combinations; however, you cannot start with a number when naming variables\n",
    "- spaces cannot be used when naming variables\n",
    "- do not use names reserved for Python keywords (e.g. **str, int, def** etc.)\n",
    "- as in the examples so far, follow the convention on naming variables: short, but descriptive; camel-case; use single letters for parameters e.g. when using numericals, avoid using too many of them in a function etc.\n",
    "- Read the __[PEP8](https://www.python.org/dev/peps/pep-0008/#function-and-variable-names)__ conventions for a concise summary"
   ]
  },
  {
   "cell_type": "markdown",
   "metadata": {},
   "source": [
    "### Datatype _string_"
   ]
  },
  {
   "cell_type": "markdown",
   "metadata": {},
   "source": [
    "- A _string_ in Python is a data type to hold any sequence of characters\n",
    "- A string needs to be put either in single oder double quotes\n",
    "- They can be combined to highlight speech in a string\n"
   ]
  },
  {
   "cell_type": "code",
   "execution_count": 6,
   "metadata": {},
   "outputs": [
    {
     "name": "stdout",
     "output_type": "stream",
     "text": [
      "This is a string\n",
      "This is also a string!\n"
     ]
    }
   ],
   "source": [
    "s = 'This is a string' \n",
    "s1 = \"This is also a string!\" #be aware of the fact that capitalization matters and refers to different strings\n",
    "print(s)\n",
    "print(s1)"
   ]
  },
  {
   "cell_type": "markdown",
   "metadata": {},
   "source": [
    "- we will now use some predefined methods to change strings\n",
    "- methods in Python are routines which do some programming work for you\n",
    "- they are typically there when the same work needs to be done again and again\n",
    "- check out the effect of the following methods: What is happeninig?"
   ]
  },
  {
   "cell_type": "code",
   "execution_count": 7,
   "metadata": {},
   "outputs": [
    {
     "name": "stdout",
     "output_type": "stream",
     "text": [
      "THIS IS A PROGRAMMING COURSE FOR DATA SCIENTISTS\n",
      "This Is A Programming Course For Data Scientists\n",
      "['This', 'is', 'a', 'programming', 'course', 'for', 'data', 'scientists']\n"
     ]
    }
   ],
   "source": [
    "s = 'This is a programming course for data scientists'\n",
    "print(s.upper())\n",
    "print(s.title())\n",
    "print(s.split())"
   ]
  },
  {
   "cell_type": "markdown",
   "metadata": {},
   "source": [
    "Summary:\n",
    "- methods seem to manipulate something - the string in these cases\n",
    "- they need to be used with the dot '.'\n",
    "- parentheses follow the use of each method\n",
    "- sometimes there is extra information given to the method inside the parentheses (not in our cases here)\n",
    "- methods can do much more and will be explained in detail in a later chapter "
   ]
  },
  {
   "cell_type": "code",
   "execution_count": 8,
   "metadata": {},
   "outputs": [
    {
     "name": "stdout",
     "output_type": "stream",
     "text": [
      "data science\n",
      "DATA SCIENCE\n"
     ]
    }
   ],
   "source": [
    "#this allows you to insert variables into a string\n",
    "element_1 = 'data'\n",
    "element_2 = 'science'\n",
    "result = f'{element_1} {element_2}' #use the f-string or format-string \n",
    "print(result)\n",
    "\n",
    "formatted_result = (f'{element_1} {element_2}').upper()\n",
    "print(formatted_result)"
   ]
  },
  {
   "cell_type": "markdown",
   "metadata": {},
   "source": [
    "Strings can be manipulated in many ways:\n",
    "- using the _+_ operator to combine them\n",
    "- using methods as seen before\n",
    "- adding special symbols such as the escape characters _\\t_ and _\\n_"
   ]
  },
  {
   "cell_type": "code",
   "execution_count": 9,
   "metadata": {},
   "outputs": [
    {
     "name": "stdout",
     "output_type": "stream",
     "text": [
      "data\tscience\n",
      "data\n",
      "science\n"
     ]
    }
   ],
   "source": [
    "print('data\\tscience')\n",
    "print('data\\nscience')"
   ]
  },
  {
   "cell_type": "code",
   "execution_count": 10,
   "metadata": {},
   "outputs": [
    {
     "name": "stdout",
     "output_type": "stream",
     "text": [
      "data science\n"
     ]
    }
   ],
   "source": [
    "print('\\tdata science'.strip())"
   ]
  },
  {
   "cell_type": "markdown",
   "metadata": {},
   "source": [
    "## Numbers in Python"
   ]
  },
  {
   "cell_type": "code",
   "execution_count": 11,
   "metadata": {},
   "outputs": [
    {
     "name": "stdout",
     "output_type": "stream",
     "text": [
      "7\n",
      "-3\n",
      "2.5\n",
      "10\n",
      "25\n"
     ]
    }
   ],
   "source": [
    "#have a look at the output and interpret the result\n",
    "print(5+2)\n",
    "print(2-5)\n",
    "print(5/2)\n",
    "print(5*2)\n",
    "print(5**2)"
   ]
  },
  {
   "cell_type": "markdown",
   "metadata": {},
   "source": [
    "In the cell above we have performed arithmetic operations with integers in Python. Check out the [Wikipedia definition](https://en.wikipedia.org/wiki/Integer_(computer_science)) of an integer. Using the Python method _type()_ we can always find out the data type present in a Python variable or in the result of an arithmetic calculation."
   ]
  },
  {
   "cell_type": "code",
   "execution_count": 12,
   "metadata": {},
   "outputs": [],
   "source": [
    "a = 'some text' #stores string in the variable a\n",
    "a = 5 #stores an integer in a\n",
    "a = '5' # again now stores a string in a"
   ]
  },
  {
   "cell_type": "markdown",
   "metadata": {},
   "source": [
    "As you can see above, Python allows for the datatype of a variable to be changed from one type to another, as opposed to other languages such as _C/C++_ or _Java_. Python derives the data type stored in the variable _implicitly_, the declaration of data types in the languages mentioned above is _explicit_.  "
   ]
  },
  {
   "cell_type": "code",
   "execution_count": 13,
   "metadata": {},
   "outputs": [
    {
     "name": "stdout",
     "output_type": "stream",
     "text": [
      "245\n",
      "3125\n"
     ]
    }
   ],
   "source": [
    "#Using parentheses changes the order in which the operations are executed\n",
    "print(2 + 3**5)\n",
    "print((2 + 3)**5)"
   ]
  },
  {
   "cell_type": "code",
   "execution_count": 14,
   "metadata": {},
   "outputs": [
    {
     "name": "stdout",
     "output_type": "stream",
     "text": [
      "<class 'int'>\n",
      "<class 'float'>\n",
      "<class 'float'>\n"
     ]
    }
   ],
   "source": [
    "print(type(5+2)) #results in an integer\n",
    "print(type(5.0+2.0)) #results in a float\n",
    "print(type(5.0+2)) #results in a float"
   ]
  },
  {
   "cell_type": "markdown",
   "metadata": {},
   "source": [
    "- Floats are the second number data type we introduce\n",
    "- floats refer to numbers with decimal points\n",
    "- depending on the operation, different results (int vs. float) have to be expected\n",
    "- floating point imprecison (cf. below) will be introduced later\n"
   ]
  },
  {
   "cell_type": "code",
   "execution_count": 15,
   "metadata": {},
   "outputs": [
    {
     "name": "stdout",
     "output_type": "stream",
     "text": [
      "3.3000000000000003\n"
     ]
    }
   ],
   "source": [
    "print(3*1.1) #what is happening here?"
   ]
  },
  {
   "cell_type": "markdown",
   "metadata": {},
   "source": [
    "To change data types from one to another, use __typacasting__:\n"
   ]
  },
  {
   "cell_type": "code",
   "execution_count": 16,
   "metadata": {},
   "outputs": [
    {
     "name": "stdout",
     "output_type": "stream",
     "text": [
      "3\n"
     ]
    }
   ],
   "source": [
    "print(int(10/3))"
   ]
  },
  {
   "cell_type": "code",
   "execution_count": 17,
   "metadata": {},
   "outputs": [
    {
     "name": "stdout",
     "output_type": "stream",
     "text": [
      "3\n",
      "3.3333333333333335\n",
      "<class 'int'>\n",
      "<class 'float'>\n"
     ]
    }
   ],
   "source": [
    "#the difference here is that the result between these two directly converted to an int in the upper case\n",
    "print(10//3)\n",
    "print(10/3)\n",
    "print(type(10//3))\n",
    "print(type(10/3))"
   ]
  },
  {
   "cell_type": "code",
   "execution_count": 18,
   "metadata": {},
   "outputs": [
    {
     "name": "stdout",
     "output_type": "stream",
     "text": [
      "25000\n",
      "25000000000\n"
     ]
    }
   ],
   "source": [
    "#use underscores to nicely display large numbers\n",
    "a =25_000\n",
    "print(a)\n",
    "print(25_000_000_000)"
   ]
  },
  {
   "cell_type": "code",
   "execution_count": 19,
   "metadata": {},
   "outputs": [
    {
     "name": "stdout",
     "output_type": "stream",
     "text": [
      "1\n",
      "2.0\n",
      "3.0\n"
     ]
    }
   ],
   "source": [
    "a,b,c = 1,2.0,'3.0' #this is called multiple assignment of variables\n",
    "print(a)\n",
    "print(b)\n",
    "print(c)"
   ]
  },
  {
   "cell_type": "code",
   "execution_count": 20,
   "metadata": {},
   "outputs": [],
   "source": [
    "#constants, as in other programing languages, do not exist in Python\n",
    "#the convention for a value never to be changed is to capitalize the letters\n",
    "MIN_VALUE = 1000"
   ]
  }
 ],
 "metadata": {
  "kernelspec": {
   "display_name": "Python 3",
   "language": "python",
   "name": "python3"
  },
  "language_info": {
   "codemirror_mode": {
    "name": "ipython",
    "version": 3
   },
   "file_extension": ".py",
   "mimetype": "text/x-python",
   "name": "python",
   "nbconvert_exporter": "python",
   "pygments_lexer": "ipython3",
   "version": "3.7.4"
  }
 },
 "nbformat": 4,
 "nbformat_minor": 2
}
