{
 "cells": [
  {
   "cell_type": "code",
   "execution_count": 43,
   "id": "4576f65b-9b26-4dc2-ae96-fee8e29e2085",
   "metadata": {},
   "outputs": [
    {
     "name": "stdout",
     "output_type": "stream",
     "text": [
      "3\n"
     ]
    }
   ],
   "source": [
    "a = 1+ 2\n",
    "print(a)"
   ]
  },
  {
   "cell_type": "code",
   "execution_count": 44,
   "id": "de6f5df4-7242-4719-a109-2897d2463823",
   "metadata": {},
   "outputs": [
    {
     "name": "stdout",
     "output_type": "stream",
     "text": [
      "0.3125\n",
      "2.0\n"
     ]
    }
   ],
   "source": [
    "print(1/3.2)\n",
    "print(3/1.5)"
   ]
  },
  {
   "cell_type": "code",
   "execution_count": 45,
   "id": "a947038c-3c98-4343-81df-92bf2c34afe7",
   "metadata": {},
   "outputs": [
    {
     "name": "stdout",
     "output_type": "stream",
     "text": [
      "[5, 6, 7, 8]\n"
     ]
    }
   ],
   "source": [
    "my_list = [1,2,3,4,5,6,7,8,9,10]\n",
    "print(my_list[4:8])"
   ]
  },
  {
   "cell_type": "code",
   "execution_count": 46,
   "id": "1fc48c0a-2ad6-4e68-84b5-905f0ab6f586",
   "metadata": {},
   "outputs": [
    {
     "name": "stdout",
     "output_type": "stream",
     "text": [
      "15\n"
     ]
    }
   ],
   "source": [
    "my_list = ['a','aa','bbb','cccc','ddddd']\n",
    "\n",
    "gelistlen = 0\n",
    "for el in my_list:\n",
    "    gelistlen += len(el)\n",
    "print(gelistlen)"
   ]
  },
  {
   "cell_type": "code",
   "execution_count": 47,
   "id": "9a20a475-3404-4486-992b-7b08054dd578",
   "metadata": {},
   "outputs": [
    {
     "name": "stdout",
     "output_type": "stream",
     "text": [
      "[0.16666666666666666, 0.3333333333333333, 0.375]\n"
     ]
    }
   ],
   "source": [
    "#Task 1\n",
    "my_arr = [[1,2,3],[4,5,6],[7,8,9]]  \n",
    "  \n",
    "def quotient(arr):  \n",
    "    reslist = []  \n",
    "    for i, col in enumerate(arr):  \n",
    "        suma_ij = 0  \n",
    "        for j, row in enumerate(col):  \n",
    "            suma_ij += arr[i][j]  \n",
    "        reslist.append(arr[i][i]/suma_ij)  \n",
    "    return reslist  \n",
    "  \n",
    "print(quotient(my_arr))  \n"
   ]
  },
  {
   "cell_type": "code",
   "execution_count": 48,
   "id": "10f29b83-2d31-4b7c-b57a-b6908f118484",
   "metadata": {},
   "outputs": [
    {
     "data": {
      "text/plain": [
       "'el'"
      ]
     },
     "execution_count": 48,
     "metadata": {},
     "output_type": "execute_result"
    }
   ],
   "source": [
    "s = 'hello'\n",
    "s[1:3]"
   ]
  },
  {
   "cell_type": "code",
   "execution_count": 49,
   "metadata": {},
   "outputs": [
    {
     "data": {
      "text/plain": [
       "'rei'"
      ]
     },
     "execution_count": 49,
     "metadata": {},
     "output_type": "execute_result"
    }
   ],
   "source": [
    "a = 'ier'\n",
    "a[::-1][0:3]"
   ]
  },
  {
   "cell_type": "code",
   "execution_count": 50,
   "id": "c6908d15-930a-48d6-8969-cc08067ee085",
   "metadata": {},
   "outputs": [
    {
     "data": {
      "text/plain": [
       "'ier'"
      ]
     },
     "execution_count": 50,
     "metadata": {},
     "output_type": "execute_result"
    }
   ],
   "source": [
    "#Task 2\n",
    "\n",
    "def substring(a,b,s,string_list):\n",
    "    if s[a:b] in string_list:\n",
    "        return s[a:b]\n",
    "    \n",
    "#substring(0,3,'rei',['eis','reis','rei'])\n",
    "\n",
    "\n",
    "def substring_rev(a:int, b:int, s:str, string_list:list,reverse=False):\n",
    "    if reverse:\n",
    "        if s[a:b] in string_list or s[::-1][a:b] in string_list:\n",
    "            return s[a:b]\n",
    "    if (s[a:b] ) in string_list:\n",
    "        return s[a:b]\n",
    "    \n",
    "substring_rev(0, 3,'ier',['eis','reis','rei'],True)"
   ]
  },
  {
   "cell_type": "code",
   "execution_count": 55,
   "metadata": {},
   "outputs": [
    {
     "name": "stdout",
     "output_type": "stream",
     "text": [
      "6\n",
      "13224\n"
     ]
    }
   ],
   "source": [
    "#Exercise 4 Task 1\n",
    "\n",
    "def dollartoeur(input:float,convRate:float):\n",
    "    return str(input*convRate) + '$'\n",
    "\n",
    "dollartoeur(1,3.21)\n",
    "\n",
    "def lencal(*nums:float):\n",
    "    return len(nums)\n",
    "print(lencal(1,2,3,4,5,6))\n",
    "\n",
    "def concatstring(*strings:str):\n",
    "    result = ''\n",
    "    for el in strings:\n",
    "        result += el\n",
    "    return result\n",
    "concatstring('a','b','c')\n",
    "\n",
    "my_dict = {'1': 'h', '2': 'l', '3': 'e', '4': 'o'}\n",
    "\n",
    "\n",
    "def dictassign(a: str, **dictlist):\n",
    "    result = []\n",
    "    for char in a:\n",
    "        for key, value in dictlist.items():\n",
    "            if char == value:\n",
    "                result.append(key)\n",
    "                break\n",
    "        else:\n",
    "            result.append(char)\n",
    "    return ''.join(result)\n",
    "\n",
    "\n",
    "print(dictassign('hello', **my_dict))\n",
    "\n"
   ]
  },
  {
   "cell_type": "code",
   "execution_count": 54,
   "metadata": {},
   "outputs": [
    {
     "name": "stdout",
     "output_type": "stream",
     "text": [
      "a 1\n",
      "b 2\n",
      "c 3\n",
      "None\n"
     ]
    }
   ],
   "source": [
    "def testfun(**kwargs):\n",
    "    for key, valie in kwargs.items():\n",
    "        print(key, valie)\n",
    "    return \n",
    "my_dict = {'a':1,'b':2,'c':3}\n",
    "print(testfun(**my_dict))"
   ]
  }
 ],
 "metadata": {
  "kernelspec": {
   "display_name": "Python 3 (ipykernel)",
   "language": "python",
   "name": "python3"
  },
  "language_info": {
   "codemirror_mode": {
    "name": "ipython",
    "version": 3
   },
   "file_extension": ".py",
   "mimetype": "text/x-python",
   "name": "python",
   "nbconvert_exporter": "python",
   "pygments_lexer": "ipython3",
   "version": "3.11.5"
  }
 },
 "nbformat": 4,
 "nbformat_minor": 5
}
