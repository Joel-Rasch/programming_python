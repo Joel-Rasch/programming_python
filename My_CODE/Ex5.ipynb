{
 "cells": [
  {
   "cell_type": "code",
   "execution_count": 9,
   "metadata": {},
   "outputs": [
    {
     "name": "stdout",
     "output_type": "stream",
     "text": [
      "[3, 3, 5, 4, 5, 3, 4, 8, 3]\n",
      "[3, 3, 4]\n",
      "{'cat': 3, 'dog': 3, 'mouse': 5, 'fish': 4, 'tiger': 5, 'cow': 3, 'crow': 4, 'dinosaur': 8, 'fly': 3}\n",
      "5\n",
      "[3, 3, 5, 4, 5, 3, 4, 8, 3]\n"
     ]
    }
   ],
   "source": [
    "mylist = ['cat', 'dog', 'mouse', 'fish', 'tiger', 'cow', 'crow', 'dinosaur', 'fly']\n",
    "comprehension = []\n",
    "\n",
    "for el in mylist:\n",
    "    comprehension.append(len(el))\n",
    "print(comprehension)\n",
    "#only for c\n",
    "comprehension_c = []\n",
    "for el in mylist:\n",
    "    if el[0] =='c':\n",
    "        comprehension_c.append(len(el))\n",
    "print(comprehension_c)\n",
    "# Dict, key name value length\n",
    "animal_dict = {}\n",
    "for el in mylist:\n",
    "    animal_dict[el] = len(el)\n",
    "print(animal_dict)\n",
    "\n",
    "addstrlen = lambda str1, str2: len(str1)+len(str2)\n",
    "print(addstrlen('ha', 'maa'))\n",
    "\n",
    "lengths = list(map(lambda elem: len(elem), mylist))\n",
    "print(lengths)"
   ]
  },
  {
   "cell_type": "code",
   "execution_count": 31,
   "metadata": {},
   "outputs": [
    {
     "name": "stdout",
     "output_type": "stream",
     "text": [
      "{'whale': 532, 'captain': 220, 'harpoon': 39}\n"
     ]
    }
   ],
   "source": [
    "mdick = open('2701-0.txt','r',encoding='utf-8')\n",
    "query_text = mdick.readlines()\n",
    "searchitem = ['whale','captain','harpoon']\n",
    "dictlist = {key: 0 for key in searchitem}\n",
    "for line in query_text:\n",
    "    line = line.split()\n",
    "    for word in line:\n",
    "        if word.lower() in searchitem:\n",
    "            dictlist[word.lower()] += 1\n",
    "print(dictlist)"
   ]
  },
  {
   "cell_type": "code",
   "execution_count": 50,
   "metadata": {},
   "outputs": [
    {
     "name": "stdout",
     "output_type": "stream",
     "text": [
      " Loomings.\n",
      "\n",
      "\n"
     ]
    }
   ],
   "source": [
    "mdick = open('2701-0.txt', 'r', encoding='utf-8')\n",
    "read = False\n",
    "restext = ''\n",
    "text = mdick.read()\n",
    "\n",
    "print(text.split('CHAPTER 1.')[1].split('CHAPTER 2.')[0])\n",
    "\n",
    "file = open('mobydick ch1.txt','w')\n",
    "file.write(text.split('CHAPTER 1.')[1].split('CHAPTER 2.')[0])\n",
    "file.close()"
   ]
  }
 ],
 "metadata": {
  "kernelspec": {
   "display_name": "Python 3 (ipykernel)",
   "language": "python",
   "name": "python3"
  },
  "language_info": {
   "codemirror_mode": {
    "name": "ipython",
    "version": 3
   },
   "file_extension": ".py",
   "mimetype": "text/x-python",
   "name": "python",
   "nbconvert_exporter": "python",
   "pygments_lexer": "ipython3",
   "version": "3.11.5"
  }
 },
 "nbformat": 4,
 "nbformat_minor": 5
}
